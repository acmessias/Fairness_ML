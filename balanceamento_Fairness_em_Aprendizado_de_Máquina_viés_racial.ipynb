{
  "nbformat": 4,
  "nbformat_minor": 0,
  "metadata": {
    "colab": {
      "provenance": []
    },
    "kernelspec": {
      "name": "python3",
      "display_name": "Python 3"
    },
    "language_info": {
      "name": "python"
    }
  },
  "cells": [
    {
      "cell_type": "markdown",
      "metadata": {
        "id": "view-in-github"
      },
      "source": [
        "<a href=\"https://colab.research.google.com/github/AnaClaudiaMessias/Fairness_ML/blob/main/Fairness_em_Aprendizado_de_M%C3%A1quina_vi%C3%A9s_racial.ipynb\" target=\"_parent\"><img src=\"https://colab.research.google.com/assets/colab-badge.svg\" alt=\"Open In Colab\"/></a>"
      ]
    },
    {
      "cell_type": "markdown",
      "source": [
        "## Importando biblotecas e dataset"
      ],
      "metadata": {
        "id": "hHMh5k1NNzA3"
      }
    },
    {
      "cell_type": "code",
      "execution_count": null,
      "metadata": {
        "colab": {
          "base_uri": "https://localhost:8080/"
        },
        "id": "d3SSg4cOvkSh",
        "outputId": "4ce2615e-6e1b-4ddd-90cd-d386be8617f3"
      },
      "outputs": [
        {
          "output_type": "stream",
          "name": "stdout",
          "text": [
            "Mounted at /content/drive\n"
          ]
        }
      ],
      "source": [
        "from google.colab import drive\n",
        "drive.mount('/content/drive')"
      ]
    },
    {
      "cell_type": "code",
      "source": [
        "pip install aif360"
      ],
      "metadata": {
        "colab": {
          "base_uri": "https://localhost:8080/"
        },
        "id": "_MGTVp4Kej7I",
        "outputId": "c943a68b-5dbc-4fa5-8123-70ae51fa7557"
      },
      "execution_count": null,
      "outputs": [
        {
          "output_type": "stream",
          "name": "stdout",
          "text": [
            "Collecting aif360\n",
            "  Downloading aif360-0.6.1-py3-none-any.whl.metadata (5.0 kB)\n",
            "Requirement already satisfied: numpy>=1.16 in /usr/local/lib/python3.10/dist-packages (from aif360) (1.26.4)\n",
            "Requirement already satisfied: scipy>=1.2.0 in /usr/local/lib/python3.10/dist-packages (from aif360) (1.13.1)\n",
            "Requirement already satisfied: pandas>=0.24.0 in /usr/local/lib/python3.10/dist-packages (from aif360) (2.2.2)\n",
            "Requirement already satisfied: scikit-learn>=1.0 in /usr/local/lib/python3.10/dist-packages (from aif360) (1.5.2)\n",
            "Requirement already satisfied: matplotlib in /usr/local/lib/python3.10/dist-packages (from aif360) (3.8.0)\n",
            "Requirement already satisfied: python-dateutil>=2.8.2 in /usr/local/lib/python3.10/dist-packages (from pandas>=0.24.0->aif360) (2.8.2)\n",
            "Requirement already satisfied: pytz>=2020.1 in /usr/local/lib/python3.10/dist-packages (from pandas>=0.24.0->aif360) (2024.2)\n",
            "Requirement already satisfied: tzdata>=2022.7 in /usr/local/lib/python3.10/dist-packages (from pandas>=0.24.0->aif360) (2024.2)\n",
            "Requirement already satisfied: joblib>=1.2.0 in /usr/local/lib/python3.10/dist-packages (from scikit-learn>=1.0->aif360) (1.4.2)\n",
            "Requirement already satisfied: threadpoolctl>=3.1.0 in /usr/local/lib/python3.10/dist-packages (from scikit-learn>=1.0->aif360) (3.5.0)\n",
            "Requirement already satisfied: contourpy>=1.0.1 in /usr/local/lib/python3.10/dist-packages (from matplotlib->aif360) (1.3.0)\n",
            "Requirement already satisfied: cycler>=0.10 in /usr/local/lib/python3.10/dist-packages (from matplotlib->aif360) (0.12.1)\n",
            "Requirement already satisfied: fonttools>=4.22.0 in /usr/local/lib/python3.10/dist-packages (from matplotlib->aif360) (4.54.1)\n",
            "Requirement already satisfied: kiwisolver>=1.0.1 in /usr/local/lib/python3.10/dist-packages (from matplotlib->aif360) (1.4.7)\n",
            "Requirement already satisfied: packaging>=20.0 in /usr/local/lib/python3.10/dist-packages (from matplotlib->aif360) (24.1)\n",
            "Requirement already satisfied: pillow>=6.2.0 in /usr/local/lib/python3.10/dist-packages (from matplotlib->aif360) (10.4.0)\n",
            "Requirement already satisfied: pyparsing>=2.3.1 in /usr/local/lib/python3.10/dist-packages (from matplotlib->aif360) (3.2.0)\n",
            "Requirement already satisfied: six>=1.5 in /usr/local/lib/python3.10/dist-packages (from python-dateutil>=2.8.2->pandas>=0.24.0->aif360) (1.16.0)\n",
            "Downloading aif360-0.6.1-py3-none-any.whl (259 kB)\n",
            "\u001b[2K   \u001b[90m━━━━━━━━━━━━━━━━━━━━━━━━━━━━━━━━━━━━━━━━\u001b[0m \u001b[32m259.7/259.7 kB\u001b[0m \u001b[31m12.8 MB/s\u001b[0m eta \u001b[36m0:00:00\u001b[0m\n",
            "\u001b[?25hInstalling collected packages: aif360\n",
            "Successfully installed aif360-0.6.1\n"
          ]
        }
      ]
    },
    {
      "cell_type": "code",
      "source": [
        "import pandas as pd\n",
        "from sklearn.preprocessing import MinMaxScaler\n",
        "from sklearn.model_selection import train_test_split\n",
        "from sklearn.linear_model import LogisticRegression\n",
        "from sklearn.ensemble import RandomForestClassifier\n",
        "from xgboost import XGBClassifier\n",
        "from sklearn.metrics import accuracy_score, classification_report\n",
        "from sklearn.metrics import confusion_matrix\n",
        "import seaborn as sns\n",
        "import matplotlib.pyplot as plt\n",
        "from aif360.datasets import BinaryLabelDataset\n",
        "from aif360.metrics import BinaryLabelDatasetMetric\n",
        "from aif360.algorithms.preprocessing import Reweighing"
      ],
      "metadata": {
        "id": "mk2gMsF6gupr",
        "colab": {
          "base_uri": "https://localhost:8080/"
        },
        "outputId": "6ff463f2-8ff3-404c-ae1e-bce471526046"
      },
      "execution_count": null,
      "outputs": [
        {
          "output_type": "stream",
          "name": "stderr",
          "text": [
            "WARNING:root:No module named 'fairlearn': ExponentiatedGradientReduction will be unavailable. To install, run:\n",
            "pip install 'aif360[Reductions]'\n",
            "WARNING:root:No module named 'fairlearn': GridSearchReduction will be unavailable. To install, run:\n",
            "pip install 'aif360[Reductions]'\n",
            "WARNING:root:No module named 'inFairness': SenSeI and SenSR will be unavailable. To install, run:\n",
            "pip install 'aif360[inFairness]'\n",
            "WARNING:root:No module named 'fairlearn': GridSearchReduction will be unavailable. To install, run:\n",
            "pip install 'aif360[Reductions]'\n"
          ]
        }
      ]
    },
    {
      "cell_type": "code",
      "source": [
        "# Caminho para o arquivo CSV no Google Drive\n",
        "caminho_arquivo_csv = '/content/drive/MyDrive/tfc/PNAD 2015/pnad.pes_2015.csv'\n",
        "\n",
        "# Abrir o arquivo CSV usando o pandas\n",
        "df = pd.read_csv(caminho_arquivo_csv, delimiter='\\t')\n",
        "\n",
        "# Exibir o DataFrame\n",
        "print(df.columns)"
      ],
      "metadata": {
        "colab": {
          "base_uri": "https://localhost:8080/"
        },
        "id": "LiineGp_um5m",
        "outputId": "ebe2c304-1b3a-4a97-9126-1fcb5e72edf9"
      },
      "execution_count": null,
      "outputs": [
        {
          "output_type": "stream",
          "name": "stdout",
          "text": [
            "Index(['V0101', 'UF', 'V0102', 'V0103', 'V0301', 'V0302', 'V3031', 'V3032',\n",
            "       'V3033', 'V8005',\n",
            "       ...\n",
            "       'V3629', 'V3630', 'V3631', 'V3632', 'V3633', 'V3634', 'V3637', 'V3638',\n",
            "       'V9993', 'domicilioid'],\n",
            "      dtype='object', length=436)\n"
          ]
        }
      ]
    },
    {
      "cell_type": "markdown",
      "source": [
        "## Análise de renda (percentil)"
      ],
      "metadata": {
        "id": "2pzXvLj-F7Rw"
      }
    },
    {
      "cell_type": "code",
      "source": [
        "df_com_renda = df[df[\"V4718\"].notna()]"
      ],
      "metadata": {
        "id": "_ogYNpsTHaoN"
      },
      "execution_count": null,
      "outputs": []
    },
    {
      "cell_type": "code",
      "source": [
        "percentil_70 = df['V4718'].quantile(0.70)\n",
        "print(f\"Percentil 70% da renda: {percentil_70}\")"
      ],
      "metadata": {
        "colab": {
          "base_uri": "https://localhost:8080/"
        },
        "id": "jy53FgklGCMw",
        "outputId": "3ebcbe8c-06f0-464d-f236-e73ad377ae88"
      },
      "execution_count": null,
      "outputs": [
        {
          "output_type": "stream",
          "name": "stdout",
          "text": [
            "Percentil 70% da renda: 1500.0\n"
          ]
        }
      ]
    },
    {
      "cell_type": "markdown",
      "source": [
        "## Tratando os dados"
      ],
      "metadata": {
        "id": "CQHiuDzpOPNm"
      }
    },
    {
      "cell_type": "code",
      "source": [
        "# 2 == branca\n",
        "# 4 == preta\n",
        "# 6 == amarela\n",
        "# 8 == parda\n",
        "# 0 == indigena\n",
        "# 9 == sem_declaracao\n",
        "\n",
        "# transformar variável sensível em binária\n",
        "df['V0404'] = df['V0404'].replace({2: 1, 6: 1, 4: 0, 8: 0, 9:None})\n",
        "\n",
        "# 1,2,3 == zona rural\n",
        "# 4, 5, 6, 7, 8 == zona urbana\n",
        "\n",
        "# transformar variável em binária\n",
        "df['V4728 '] = df['V4728'].replace({1: 0, 2: 0, 3: 0, 4: 1, 5: 1, 6: 1, 7: 1, 8: 1})\n",
        "\n",
        "#df['renda_binaria'] =\n",
        "df.loc[df['V4718'] <= 1500, 'renda_binaria'] = 0\n",
        "#df['renda_binaria'] =\n",
        "df.loc[df['V4718'] > 1500, 'renda_binaria'] = 1\n",
        "\n",
        "df = df.rename(columns={\"UF\": \"V0000\"})\n",
        "\n",
        "# selecionar features\n",
        "dados = ['V4803', 'V6007', 'V4011', 'V0000', 'V4707', 'V0302','V4809', 'V4810', 'V8005', 'V9042', 'V4706', 'V0404', 'V9032', 'V4728', 'renda_binaria']\n",
        "\n",
        "# Exibir o DataFrame tratado\n",
        "print(df[dados].head(16))"
      ],
      "metadata": {
        "id": "qZoFcG9hccIC",
        "colab": {
          "base_uri": "https://localhost:8080/"
        },
        "outputId": "feb25867-fa7e-44e1-bee3-73142f407b3e"
      },
      "execution_count": null,
      "outputs": [
        {
          "output_type": "stream",
          "name": "stdout",
          "text": [
            "    V4803  V6007  V4011  V0000  V4707  V0302  V4809  V4810  V8005  V9042  \\\n",
            "0      12    5.0    0.0     11    3.0      2   11.0    5.0     23    4.0   \n",
            "1      12    5.0    5.0     11    3.0      4   12.0    4.0     23    2.0   \n",
            "2      15    NaN    NaN     11    3.0      4    8.0    2.0     35    4.0   \n",
            "3      15    8.0    NaN     11    5.0      2    5.0    1.0     34    NaN   \n",
            "4       4    NaN    0.0     11    NaN      4    NaN    NaN     11    NaN   \n",
            "5       2    NaN    NaN     11    NaN      4    NaN    NaN      7    NaN   \n",
            "6       1    NaN    NaN     11    NaN      4    NaN    NaN      4    NaN   \n",
            "7      12    5.0    0.0     11    3.0      4    5.0    4.0     18    2.0   \n",
            "8       6    4.0    0.0     11    5.0      2    7.0    8.0     46    NaN   \n",
            "9       3    1.0    7.0     11    NaN      4    NaN    NaN     81    NaN   \n",
            "10      6    4.0    5.0     11    NaN      4    NaN    NaN     71    NaN   \n",
            "11      9    4.0    1.0     11    3.0      4   10.0    5.0     47    4.0   \n",
            "12     12    5.0    0.0     11    NaN      2    NaN    NaN     24    NaN   \n",
            "13     12    5.0    1.0     11    NaN      4    NaN    NaN     28    NaN   \n",
            "14      9    4.0    1.0     11    5.0      2    1.0    7.0     50    NaN   \n",
            "15      1    NaN    NaN     11    NaN      2    NaN    NaN      1    NaN   \n",
            "\n",
            "    V4706  V0404  V9032  V4728  renda_binaria  \n",
            "0     4.0    0.0    2.0      1            0.0  \n",
            "1     1.0    1.0    2.0      1            0.0  \n",
            "2     4.0    0.0    4.0      1            0.0  \n",
            "3    10.0    0.0    NaN      1            1.0  \n",
            "4     NaN    0.0    NaN      1            NaN  \n",
            "5     NaN    0.0    NaN      1            NaN  \n",
            "6     NaN    0.0    NaN      1            NaN  \n",
            "7     1.0    0.0    2.0      1            0.0  \n",
            "8     9.0    1.0    NaN      1            1.0  \n",
            "9     NaN    0.0    NaN      1            NaN  \n",
            "10    NaN    1.0    NaN      1            NaN  \n",
            "11    7.0    0.0    NaN      1            0.0  \n",
            "12    NaN    1.0    NaN      1            NaN  \n",
            "13    NaN    0.0    NaN      1            NaN  \n",
            "14    9.0    0.0    NaN      1            1.0  \n",
            "15    NaN    0.0    NaN      1            NaN  \n"
          ]
        }
      ]
    },
    {
      "cell_type": "code",
      "source": [
        "# tratar os dados\n",
        "\n",
        "# fazer drop NaN para não ter dado nulo\n",
        "df = df[dados].dropna()\n",
        "\n",
        "# Criar uma instância do MinMaxScaler\n",
        "scaler = MinMaxScaler()\n",
        "\n",
        "# Normalizar as duas colunas\n",
        "df[dados] = scaler.fit_transform(df[dados])\n",
        "\n",
        "# Exibir o DataFrame tratado\n",
        "print(df[dados].head(16))"
      ],
      "metadata": {
        "id": "HWPAugAJg2Gm",
        "colab": {
          "base_uri": "https://localhost:8080/"
        },
        "outputId": "b515a458-0ca8-4807-d2e8-7da7e2d60e5a"
      },
      "execution_count": null,
      "outputs": [
        {
          "output_type": "stream",
          "name": "stdout",
          "text": [
            "       V4803     V6007     V4011  V0000  V4707  V0302     V4809     V4810  \\\n",
            "0   0.733333  0.333333  0.000000    0.0   0.50    0.0  0.833333  0.444444   \n",
            "1   0.733333  0.333333  0.714286    0.0   0.50    1.0  0.916667  0.333333   \n",
            "7   0.733333  0.333333  0.000000    0.0   0.50    1.0  0.333333  0.333333   \n",
            "16  0.733333  0.333333  0.142857    0.0   0.50    1.0  0.333333  0.555556   \n",
            "17  0.733333  0.333333  0.142857    0.0   0.50    0.0  0.250000  0.777778   \n",
            "18  0.533333  0.250000  0.000000    0.0   1.00    0.0  0.416667  0.555556   \n",
            "26  1.000000  0.583333  0.000000    0.0   0.50    1.0  0.666667  0.111111   \n",
            "27  0.733333  0.333333  0.142857    0.0   0.50    0.0  0.166667  0.000000   \n",
            "28  0.666667  0.333333  0.142857    0.0   0.50    1.0  0.333333  0.555556   \n",
            "36  0.266667  0.250000  0.000000    0.0   1.00    0.0  0.083333  0.777778   \n",
            "42  0.733333  0.333333  0.000000    0.0   0.50    0.0  0.333333  0.555556   \n",
            "43  0.733333  0.333333  0.000000    0.0   0.50    1.0  0.666667  0.444444   \n",
            "47  0.733333  0.333333  0.000000    0.0   0.50    1.0  0.166667  0.333333   \n",
            "52  0.600000  0.333333  0.000000    0.0   0.75    1.0  0.333333  0.444444   \n",
            "59  0.733333  0.333333  0.714286    0.0   0.50    0.0  0.333333  0.000000   \n",
            "80  0.266667  0.250000  0.000000    0.0   0.50    0.0  0.250000  0.777778   \n",
            "\n",
            "       V8005  V9042  V4706  V0404  V9032  V4728  renda_binaria  \n",
            "0   0.162162    1.0    1.0    0.0    0.0    0.0            0.0  \n",
            "1   0.162162    0.0    0.0    1.0    0.0    0.0            0.0  \n",
            "7   0.094595    0.0    0.0    0.0    0.0    0.0            0.0  \n",
            "16  0.310811    0.0    0.0    0.0    0.0    0.0            0.0  \n",
            "17  0.324324    0.0    0.0    0.0    0.0    0.0            1.0  \n",
            "18  0.067568    1.0    1.0    0.0    0.0    0.0            0.0  \n",
            "26  0.256757    0.0    0.0    0.0    1.0    0.0            0.0  \n",
            "27  0.202703    0.0    0.0    0.0    0.0    0.0            0.0  \n",
            "28  0.121622    0.0    0.0    0.0    0.0    0.0            0.0  \n",
            "36  0.459459    0.0    0.0    0.0    0.0    0.0            1.0  \n",
            "42  0.364865    0.0    0.0    0.0    0.0    0.0            1.0  \n",
            "43  0.391892    0.0    0.0    0.0    1.0    0.0            0.0  \n",
            "47  0.121622    0.0    0.0    1.0    0.0    0.0            0.0  \n",
            "52  0.432432    0.0    0.0    0.0    0.0    0.0            0.0  \n",
            "59  0.621622    0.0    0.0    1.0    0.0    0.0            1.0  \n",
            "80  0.310811    1.0    1.0    0.0    0.0    0.0            0.0  \n"
          ]
        }
      ]
    },
    {
      "cell_type": "code",
      "source": [
        "'''\n",
        "Legenda:\n",
        "\n",
        "anos de estudo == df['V4803']\n",
        "Curso mais elevado que frequentou anteriormentedf == ['V6007']\n",
        "Estado civil == df['V4011']\n",
        "UF == df['V0000']\n",
        "faixa de horas de trabalho semanal == df['V4707']\n",
        "gênero == df['V0302']\n",
        "grupamento de atividade do empreendimento do trabalho == df['V4809']\n",
        "grupamento ocupacionais do trabalho == df['V4810']\n",
        "idade  == df['V8005']\n",
        "tinha carteira de trabalho assinada no trabalho principal da semana de referência == df['V9042']\n",
        "posição no trabalho == df['V4706']\n",
        "raça == df['V0404']\n",
        "Setor do emprego no trabalho principal da semana de referência == df['V9032']\n",
        "situação censitária == df['V4728']\n",
        "renda binária == df['renda_binaria']\n",
        "\n",
        "'''"
      ],
      "metadata": {
        "id": "az7qAT82hyFX",
        "colab": {
          "base_uri": "https://localhost:8080/",
          "height": 105
        },
        "outputId": "65399e2e-699d-4341-eddf-373c24949c95"
      },
      "execution_count": null,
      "outputs": [
        {
          "output_type": "execute_result",
          "data": {
            "text/plain": [
              "\"\\nLegenda:\\n\\nanos de estudo == df['V4803']\\nCurso mais elevado que frequentou anteriormentedf == ['V6007']\\nEstado civil == df['V4011']\\nUF == df['V0000']\\nfaixa de horas de trabalho semanal == df['V4707']\\ngênero == df['V0302']\\ngrupamento de atividade do empreendimento do trabalho == df['V4809']\\ngrupamento ocupacionais do trabalho == df['V4810']\\nidade  == df['V8005']\\ntinha carteira de trabalho assinada no trabalho principal da semana de referência == df['V9042']\\nposição no trabalho == df['V4706']\\nraça == df['V0404']\\nSetor do emprego no trabalho principal da semana de referência == df['V9032']\\nsituação censitária == df['V4728']\\nrenda binária == df['renda_binaria']\\n\\n\""
            ],
            "application/vnd.google.colaboratory.intrinsic+json": {
              "type": "string"
            }
          },
          "metadata": {},
          "execution_count": 9
        }
      ]
    },
    {
      "cell_type": "markdown",
      "source": [
        "## Balanceamento de Dados"
      ],
      "metadata": {
        "id": "T8G8tjpnhX0i"
      }
    },
    {
      "cell_type": "code",
      "source": [
        "from imblearn.over_sampling import SMOTE\n",
        "from sklearn.model_selection import train_test_split\n",
        "\n",
        "# Divida o conjunto de dados por grupos\n",
        "grupo_privilegiado = df[df['V0404'] == 1]\n",
        "grupo_desprivilegiado = df[df['V0404'] == 0]\n",
        "\n",
        "# Aplique SMOTE em cada grupo\n",
        "smote = SMOTE(random_state=42)\n",
        "X_privilegiado, y_privilegiado = smote.fit_resample(grupo_privilegiado.drop('renda_binaria', axis=1), grupo_privilegiado['renda_binaria'])\n",
        "X_desprivilegiado, y_desprivilegiado = smote.fit_resample(grupo_desprivilegiado.drop('renda_binaria', axis=1), grupo_desprivilegiado['renda_binaria'])\n",
        "\n",
        "# Combine os dados\n",
        "X_balanced = pd.concat([X_privilegiado, X_desprivilegiado])\n",
        "y_balanced = pd.concat([y_privilegiado, y_desprivilegiado])"
      ],
      "metadata": {
        "id": "AnXPth3khcWp"
      },
      "execution_count": null,
      "outputs": []
    },
    {
      "cell_type": "code",
      "source": [
        "# Dividir o conjunto de dados em treinamento e teste\n",
        "X_train, X_test, y_train, y_test = train_test_split(X_balanced, y_balanced, test_size=0.2, random_state=42)\n",
        "\n",
        "X_test_priv = X_test[X_test['V0404']==1]\n",
        "y_test_priv = y_test[X_test['V0404']==1]\n",
        "X_priv_invert = X_test_priv.replace({0: 1})\n",
        "\n",
        "print(X_test_priv)\n",
        "print(y_test_priv)"
      ],
      "metadata": {
        "colab": {
          "base_uri": "https://localhost:8080/"
        },
        "id": "dhEBLhdpifdh",
        "outputId": "a2865c1c-2882-40b5-ab88-760daa32fb86"
      },
      "execution_count": null,
      "outputs": [
        {
          "output_type": "stream",
          "name": "stdout",
          "text": [
            "          V4803     V6007     V4011     V0000     V4707  V0302     V4809  \\\n",
            "20352  0.733333  0.333333  0.000000  0.442593  0.536807    0.0  0.237731   \n",
            "22577  0.226826  0.250000  0.000000  0.733447  0.500000    0.0  0.267263   \n",
            "10407  0.733333  0.333333  0.714286  0.571429  1.000000    0.0  0.333333   \n",
            "7718   0.733333  0.333333  0.000000  0.571429  1.000000    0.0  0.666667   \n",
            "19260  0.733333  0.333333  0.714286  0.684471  1.000000    0.0  0.500000   \n",
            "...         ...       ...       ...       ...       ...    ...       ...   \n",
            "3095   0.533333  0.250000  0.000000  0.357143  0.500000    0.0  0.250000   \n",
            "13787  0.733333  0.333333  0.142857  0.738095  0.500000    0.0  0.166667   \n",
            "5297   1.000000  0.583333  0.000000  0.476190  0.500000    1.0  0.166667   \n",
            "16248  0.733333  0.333333  0.000000  0.761905  0.750000    1.0  0.666667   \n",
            "21126  0.733333  0.475308  0.000000  0.734568  0.500000    1.0  0.666667   \n",
            "\n",
            "          V4810     V8005  V9042  V4706  V0404  V9032  V4728  \n",
            "20352  0.777778  0.150638    0.0    0.0    1.0    0.0    1.0  \n",
            "22577  0.444444  0.370625    0.0    0.0    1.0    0.0    0.0  \n",
            "10407  0.222222  0.486486    1.0    1.0    1.0    0.0    0.0  \n",
            "7718   0.222222  0.283784    0.0    0.0    1.0    1.0    0.0  \n",
            "19260  0.777778  0.528672    0.0    0.0    1.0    0.0    0.0  \n",
            "...         ...       ...    ...    ...    ...    ...    ...  \n",
            "3095   0.777778  0.121622    0.0    0.0    1.0    0.0    0.0  \n",
            "13787  0.777778  0.378378    0.0    0.0    1.0    0.0    0.0  \n",
            "5297   0.333333  0.216216    0.0    0.0    1.0    0.0    0.0  \n",
            "16248  0.222222  0.324324    0.0    0.0    1.0    0.0    0.0  \n",
            "21126  0.222222  0.455455    0.0    0.0    1.0    0.0    0.0  \n",
            "\n",
            "[5021 rows x 14 columns]\n",
            "20352    1.0\n",
            "22577    1.0\n",
            "10407    1.0\n",
            "7718     1.0\n",
            "19260    1.0\n",
            "        ... \n",
            "3095     0.0\n",
            "13787    1.0\n",
            "5297     0.0\n",
            "16248    0.0\n",
            "21126    1.0\n",
            "Name: renda_binaria, Length: 5021, dtype: float64\n"
          ]
        }
      ]
    },
    {
      "cell_type": "markdown",
      "source": [
        "## Criar e treinar modelos"
      ],
      "metadata": {
        "id": "pGiZpt9COXys"
      }
    },
    {
      "cell_type": "code",
      "source": [
        "# Criar os modelos\n",
        "regressao_logistica = LogisticRegression()\n",
        "random_forest = RandomForestClassifier()\n",
        "xgb_classifier = XGBClassifier()\n",
        "\n",
        "# Treinar os modelos usando os dados de treinamento\n",
        "regressao_logistica.fit(X_train, y_train)\n",
        "random_forest.fit(X_train, y_train)\n",
        "xgb_classifier.fit(X_train, y_train)"
      ],
      "metadata": {
        "colab": {
          "base_uri": "https://localhost:8080/",
          "height": 254
        },
        "id": "LviLoFqCxiOb",
        "outputId": "07a49ff0-77f7-4573-a9e0-0de877927954"
      },
      "execution_count": null,
      "outputs": [
        {
          "output_type": "execute_result",
          "data": {
            "text/plain": [
              "XGBClassifier(base_score=None, booster=None, callbacks=None,\n",
              "              colsample_bylevel=None, colsample_bynode=None,\n",
              "              colsample_bytree=None, device=None, early_stopping_rounds=None,\n",
              "              enable_categorical=False, eval_metric=None, feature_types=None,\n",
              "              gamma=None, grow_policy=None, importance_type=None,\n",
              "              interaction_constraints=None, learning_rate=None, max_bin=None,\n",
              "              max_cat_threshold=None, max_cat_to_onehot=None,\n",
              "              max_delta_step=None, max_depth=None, max_leaves=None,\n",
              "              min_child_weight=None, missing=nan, monotone_constraints=None,\n",
              "              multi_strategy=None, n_estimators=None, n_jobs=None,\n",
              "              num_parallel_tree=None, random_state=None, ...)"
            ],
            "text/html": [
              "<style>#sk-container-id-1 {\n",
              "  /* Definition of color scheme common for light and dark mode */\n",
              "  --sklearn-color-text: black;\n",
              "  --sklearn-color-line: gray;\n",
              "  /* Definition of color scheme for unfitted estimators */\n",
              "  --sklearn-color-unfitted-level-0: #fff5e6;\n",
              "  --sklearn-color-unfitted-level-1: #f6e4d2;\n",
              "  --sklearn-color-unfitted-level-2: #ffe0b3;\n",
              "  --sklearn-color-unfitted-level-3: chocolate;\n",
              "  /* Definition of color scheme for fitted estimators */\n",
              "  --sklearn-color-fitted-level-0: #f0f8ff;\n",
              "  --sklearn-color-fitted-level-1: #d4ebff;\n",
              "  --sklearn-color-fitted-level-2: #b3dbfd;\n",
              "  --sklearn-color-fitted-level-3: cornflowerblue;\n",
              "\n",
              "  /* Specific color for light theme */\n",
              "  --sklearn-color-text-on-default-background: var(--sg-text-color, var(--theme-code-foreground, var(--jp-content-font-color1, black)));\n",
              "  --sklearn-color-background: var(--sg-background-color, var(--theme-background, var(--jp-layout-color0, white)));\n",
              "  --sklearn-color-border-box: var(--sg-text-color, var(--theme-code-foreground, var(--jp-content-font-color1, black)));\n",
              "  --sklearn-color-icon: #696969;\n",
              "\n",
              "  @media (prefers-color-scheme: dark) {\n",
              "    /* Redefinition of color scheme for dark theme */\n",
              "    --sklearn-color-text-on-default-background: var(--sg-text-color, var(--theme-code-foreground, var(--jp-content-font-color1, white)));\n",
              "    --sklearn-color-background: var(--sg-background-color, var(--theme-background, var(--jp-layout-color0, #111)));\n",
              "    --sklearn-color-border-box: var(--sg-text-color, var(--theme-code-foreground, var(--jp-content-font-color1, white)));\n",
              "    --sklearn-color-icon: #878787;\n",
              "  }\n",
              "}\n",
              "\n",
              "#sk-container-id-1 {\n",
              "  color: var(--sklearn-color-text);\n",
              "}\n",
              "\n",
              "#sk-container-id-1 pre {\n",
              "  padding: 0;\n",
              "}\n",
              "\n",
              "#sk-container-id-1 input.sk-hidden--visually {\n",
              "  border: 0;\n",
              "  clip: rect(1px 1px 1px 1px);\n",
              "  clip: rect(1px, 1px, 1px, 1px);\n",
              "  height: 1px;\n",
              "  margin: -1px;\n",
              "  overflow: hidden;\n",
              "  padding: 0;\n",
              "  position: absolute;\n",
              "  width: 1px;\n",
              "}\n",
              "\n",
              "#sk-container-id-1 div.sk-dashed-wrapped {\n",
              "  border: 1px dashed var(--sklearn-color-line);\n",
              "  margin: 0 0.4em 0.5em 0.4em;\n",
              "  box-sizing: border-box;\n",
              "  padding-bottom: 0.4em;\n",
              "  background-color: var(--sklearn-color-background);\n",
              "}\n",
              "\n",
              "#sk-container-id-1 div.sk-container {\n",
              "  /* jupyter's `normalize.less` sets `[hidden] { display: none; }`\n",
              "     but bootstrap.min.css set `[hidden] { display: none !important; }`\n",
              "     so we also need the `!important` here to be able to override the\n",
              "     default hidden behavior on the sphinx rendered scikit-learn.org.\n",
              "     See: https://github.com/scikit-learn/scikit-learn/issues/21755 */\n",
              "  display: inline-block !important;\n",
              "  position: relative;\n",
              "}\n",
              "\n",
              "#sk-container-id-1 div.sk-text-repr-fallback {\n",
              "  display: none;\n",
              "}\n",
              "\n",
              "div.sk-parallel-item,\n",
              "div.sk-serial,\n",
              "div.sk-item {\n",
              "  /* draw centered vertical line to link estimators */\n",
              "  background-image: linear-gradient(var(--sklearn-color-text-on-default-background), var(--sklearn-color-text-on-default-background));\n",
              "  background-size: 2px 100%;\n",
              "  background-repeat: no-repeat;\n",
              "  background-position: center center;\n",
              "}\n",
              "\n",
              "/* Parallel-specific style estimator block */\n",
              "\n",
              "#sk-container-id-1 div.sk-parallel-item::after {\n",
              "  content: \"\";\n",
              "  width: 100%;\n",
              "  border-bottom: 2px solid var(--sklearn-color-text-on-default-background);\n",
              "  flex-grow: 1;\n",
              "}\n",
              "\n",
              "#sk-container-id-1 div.sk-parallel {\n",
              "  display: flex;\n",
              "  align-items: stretch;\n",
              "  justify-content: center;\n",
              "  background-color: var(--sklearn-color-background);\n",
              "  position: relative;\n",
              "}\n",
              "\n",
              "#sk-container-id-1 div.sk-parallel-item {\n",
              "  display: flex;\n",
              "  flex-direction: column;\n",
              "}\n",
              "\n",
              "#sk-container-id-1 div.sk-parallel-item:first-child::after {\n",
              "  align-self: flex-end;\n",
              "  width: 50%;\n",
              "}\n",
              "\n",
              "#sk-container-id-1 div.sk-parallel-item:last-child::after {\n",
              "  align-self: flex-start;\n",
              "  width: 50%;\n",
              "}\n",
              "\n",
              "#sk-container-id-1 div.sk-parallel-item:only-child::after {\n",
              "  width: 0;\n",
              "}\n",
              "\n",
              "/* Serial-specific style estimator block */\n",
              "\n",
              "#sk-container-id-1 div.sk-serial {\n",
              "  display: flex;\n",
              "  flex-direction: column;\n",
              "  align-items: center;\n",
              "  background-color: var(--sklearn-color-background);\n",
              "  padding-right: 1em;\n",
              "  padding-left: 1em;\n",
              "}\n",
              "\n",
              "\n",
              "/* Toggleable style: style used for estimator/Pipeline/ColumnTransformer box that is\n",
              "clickable and can be expanded/collapsed.\n",
              "- Pipeline and ColumnTransformer use this feature and define the default style\n",
              "- Estimators will overwrite some part of the style using the `sk-estimator` class\n",
              "*/\n",
              "\n",
              "/* Pipeline and ColumnTransformer style (default) */\n",
              "\n",
              "#sk-container-id-1 div.sk-toggleable {\n",
              "  /* Default theme specific background. It is overwritten whether we have a\n",
              "  specific estimator or a Pipeline/ColumnTransformer */\n",
              "  background-color: var(--sklearn-color-background);\n",
              "}\n",
              "\n",
              "/* Toggleable label */\n",
              "#sk-container-id-1 label.sk-toggleable__label {\n",
              "  cursor: pointer;\n",
              "  display: block;\n",
              "  width: 100%;\n",
              "  margin-bottom: 0;\n",
              "  padding: 0.5em;\n",
              "  box-sizing: border-box;\n",
              "  text-align: center;\n",
              "}\n",
              "\n",
              "#sk-container-id-1 label.sk-toggleable__label-arrow:before {\n",
              "  /* Arrow on the left of the label */\n",
              "  content: \"▸\";\n",
              "  float: left;\n",
              "  margin-right: 0.25em;\n",
              "  color: var(--sklearn-color-icon);\n",
              "}\n",
              "\n",
              "#sk-container-id-1 label.sk-toggleable__label-arrow:hover:before {\n",
              "  color: var(--sklearn-color-text);\n",
              "}\n",
              "\n",
              "/* Toggleable content - dropdown */\n",
              "\n",
              "#sk-container-id-1 div.sk-toggleable__content {\n",
              "  max-height: 0;\n",
              "  max-width: 0;\n",
              "  overflow: hidden;\n",
              "  text-align: left;\n",
              "  /* unfitted */\n",
              "  background-color: var(--sklearn-color-unfitted-level-0);\n",
              "}\n",
              "\n",
              "#sk-container-id-1 div.sk-toggleable__content.fitted {\n",
              "  /* fitted */\n",
              "  background-color: var(--sklearn-color-fitted-level-0);\n",
              "}\n",
              "\n",
              "#sk-container-id-1 div.sk-toggleable__content pre {\n",
              "  margin: 0.2em;\n",
              "  border-radius: 0.25em;\n",
              "  color: var(--sklearn-color-text);\n",
              "  /* unfitted */\n",
              "  background-color: var(--sklearn-color-unfitted-level-0);\n",
              "}\n",
              "\n",
              "#sk-container-id-1 div.sk-toggleable__content.fitted pre {\n",
              "  /* unfitted */\n",
              "  background-color: var(--sklearn-color-fitted-level-0);\n",
              "}\n",
              "\n",
              "#sk-container-id-1 input.sk-toggleable__control:checked~div.sk-toggleable__content {\n",
              "  /* Expand drop-down */\n",
              "  max-height: 200px;\n",
              "  max-width: 100%;\n",
              "  overflow: auto;\n",
              "}\n",
              "\n",
              "#sk-container-id-1 input.sk-toggleable__control:checked~label.sk-toggleable__label-arrow:before {\n",
              "  content: \"▾\";\n",
              "}\n",
              "\n",
              "/* Pipeline/ColumnTransformer-specific style */\n",
              "\n",
              "#sk-container-id-1 div.sk-label input.sk-toggleable__control:checked~label.sk-toggleable__label {\n",
              "  color: var(--sklearn-color-text);\n",
              "  background-color: var(--sklearn-color-unfitted-level-2);\n",
              "}\n",
              "\n",
              "#sk-container-id-1 div.sk-label.fitted input.sk-toggleable__control:checked~label.sk-toggleable__label {\n",
              "  background-color: var(--sklearn-color-fitted-level-2);\n",
              "}\n",
              "\n",
              "/* Estimator-specific style */\n",
              "\n",
              "/* Colorize estimator box */\n",
              "#sk-container-id-1 div.sk-estimator input.sk-toggleable__control:checked~label.sk-toggleable__label {\n",
              "  /* unfitted */\n",
              "  background-color: var(--sklearn-color-unfitted-level-2);\n",
              "}\n",
              "\n",
              "#sk-container-id-1 div.sk-estimator.fitted input.sk-toggleable__control:checked~label.sk-toggleable__label {\n",
              "  /* fitted */\n",
              "  background-color: var(--sklearn-color-fitted-level-2);\n",
              "}\n",
              "\n",
              "#sk-container-id-1 div.sk-label label.sk-toggleable__label,\n",
              "#sk-container-id-1 div.sk-label label {\n",
              "  /* The background is the default theme color */\n",
              "  color: var(--sklearn-color-text-on-default-background);\n",
              "}\n",
              "\n",
              "/* On hover, darken the color of the background */\n",
              "#sk-container-id-1 div.sk-label:hover label.sk-toggleable__label {\n",
              "  color: var(--sklearn-color-text);\n",
              "  background-color: var(--sklearn-color-unfitted-level-2);\n",
              "}\n",
              "\n",
              "/* Label box, darken color on hover, fitted */\n",
              "#sk-container-id-1 div.sk-label.fitted:hover label.sk-toggleable__label.fitted {\n",
              "  color: var(--sklearn-color-text);\n",
              "  background-color: var(--sklearn-color-fitted-level-2);\n",
              "}\n",
              "\n",
              "/* Estimator label */\n",
              "\n",
              "#sk-container-id-1 div.sk-label label {\n",
              "  font-family: monospace;\n",
              "  font-weight: bold;\n",
              "  display: inline-block;\n",
              "  line-height: 1.2em;\n",
              "}\n",
              "\n",
              "#sk-container-id-1 div.sk-label-container {\n",
              "  text-align: center;\n",
              "}\n",
              "\n",
              "/* Estimator-specific */\n",
              "#sk-container-id-1 div.sk-estimator {\n",
              "  font-family: monospace;\n",
              "  border: 1px dotted var(--sklearn-color-border-box);\n",
              "  border-radius: 0.25em;\n",
              "  box-sizing: border-box;\n",
              "  margin-bottom: 0.5em;\n",
              "  /* unfitted */\n",
              "  background-color: var(--sklearn-color-unfitted-level-0);\n",
              "}\n",
              "\n",
              "#sk-container-id-1 div.sk-estimator.fitted {\n",
              "  /* fitted */\n",
              "  background-color: var(--sklearn-color-fitted-level-0);\n",
              "}\n",
              "\n",
              "/* on hover */\n",
              "#sk-container-id-1 div.sk-estimator:hover {\n",
              "  /* unfitted */\n",
              "  background-color: var(--sklearn-color-unfitted-level-2);\n",
              "}\n",
              "\n",
              "#sk-container-id-1 div.sk-estimator.fitted:hover {\n",
              "  /* fitted */\n",
              "  background-color: var(--sklearn-color-fitted-level-2);\n",
              "}\n",
              "\n",
              "/* Specification for estimator info (e.g. \"i\" and \"?\") */\n",
              "\n",
              "/* Common style for \"i\" and \"?\" */\n",
              "\n",
              ".sk-estimator-doc-link,\n",
              "a:link.sk-estimator-doc-link,\n",
              "a:visited.sk-estimator-doc-link {\n",
              "  float: right;\n",
              "  font-size: smaller;\n",
              "  line-height: 1em;\n",
              "  font-family: monospace;\n",
              "  background-color: var(--sklearn-color-background);\n",
              "  border-radius: 1em;\n",
              "  height: 1em;\n",
              "  width: 1em;\n",
              "  text-decoration: none !important;\n",
              "  margin-left: 1ex;\n",
              "  /* unfitted */\n",
              "  border: var(--sklearn-color-unfitted-level-1) 1pt solid;\n",
              "  color: var(--sklearn-color-unfitted-level-1);\n",
              "}\n",
              "\n",
              ".sk-estimator-doc-link.fitted,\n",
              "a:link.sk-estimator-doc-link.fitted,\n",
              "a:visited.sk-estimator-doc-link.fitted {\n",
              "  /* fitted */\n",
              "  border: var(--sklearn-color-fitted-level-1) 1pt solid;\n",
              "  color: var(--sklearn-color-fitted-level-1);\n",
              "}\n",
              "\n",
              "/* On hover */\n",
              "div.sk-estimator:hover .sk-estimator-doc-link:hover,\n",
              ".sk-estimator-doc-link:hover,\n",
              "div.sk-label-container:hover .sk-estimator-doc-link:hover,\n",
              ".sk-estimator-doc-link:hover {\n",
              "  /* unfitted */\n",
              "  background-color: var(--sklearn-color-unfitted-level-3);\n",
              "  color: var(--sklearn-color-background);\n",
              "  text-decoration: none;\n",
              "}\n",
              "\n",
              "div.sk-estimator.fitted:hover .sk-estimator-doc-link.fitted:hover,\n",
              ".sk-estimator-doc-link.fitted:hover,\n",
              "div.sk-label-container:hover .sk-estimator-doc-link.fitted:hover,\n",
              ".sk-estimator-doc-link.fitted:hover {\n",
              "  /* fitted */\n",
              "  background-color: var(--sklearn-color-fitted-level-3);\n",
              "  color: var(--sklearn-color-background);\n",
              "  text-decoration: none;\n",
              "}\n",
              "\n",
              "/* Span, style for the box shown on hovering the info icon */\n",
              ".sk-estimator-doc-link span {\n",
              "  display: none;\n",
              "  z-index: 9999;\n",
              "  position: relative;\n",
              "  font-weight: normal;\n",
              "  right: .2ex;\n",
              "  padding: .5ex;\n",
              "  margin: .5ex;\n",
              "  width: min-content;\n",
              "  min-width: 20ex;\n",
              "  max-width: 50ex;\n",
              "  color: var(--sklearn-color-text);\n",
              "  box-shadow: 2pt 2pt 4pt #999;\n",
              "  /* unfitted */\n",
              "  background: var(--sklearn-color-unfitted-level-0);\n",
              "  border: .5pt solid var(--sklearn-color-unfitted-level-3);\n",
              "}\n",
              "\n",
              ".sk-estimator-doc-link.fitted span {\n",
              "  /* fitted */\n",
              "  background: var(--sklearn-color-fitted-level-0);\n",
              "  border: var(--sklearn-color-fitted-level-3);\n",
              "}\n",
              "\n",
              ".sk-estimator-doc-link:hover span {\n",
              "  display: block;\n",
              "}\n",
              "\n",
              "/* \"?\"-specific style due to the `<a>` HTML tag */\n",
              "\n",
              "#sk-container-id-1 a.estimator_doc_link {\n",
              "  float: right;\n",
              "  font-size: 1rem;\n",
              "  line-height: 1em;\n",
              "  font-family: monospace;\n",
              "  background-color: var(--sklearn-color-background);\n",
              "  border-radius: 1rem;\n",
              "  height: 1rem;\n",
              "  width: 1rem;\n",
              "  text-decoration: none;\n",
              "  /* unfitted */\n",
              "  color: var(--sklearn-color-unfitted-level-1);\n",
              "  border: var(--sklearn-color-unfitted-level-1) 1pt solid;\n",
              "}\n",
              "\n",
              "#sk-container-id-1 a.estimator_doc_link.fitted {\n",
              "  /* fitted */\n",
              "  border: var(--sklearn-color-fitted-level-1) 1pt solid;\n",
              "  color: var(--sklearn-color-fitted-level-1);\n",
              "}\n",
              "\n",
              "/* On hover */\n",
              "#sk-container-id-1 a.estimator_doc_link:hover {\n",
              "  /* unfitted */\n",
              "  background-color: var(--sklearn-color-unfitted-level-3);\n",
              "  color: var(--sklearn-color-background);\n",
              "  text-decoration: none;\n",
              "}\n",
              "\n",
              "#sk-container-id-1 a.estimator_doc_link.fitted:hover {\n",
              "  /* fitted */\n",
              "  background-color: var(--sklearn-color-fitted-level-3);\n",
              "}\n",
              "</style><div id=\"sk-container-id-1\" class=\"sk-top-container\"><div class=\"sk-text-repr-fallback\"><pre>XGBClassifier(base_score=None, booster=None, callbacks=None,\n",
              "              colsample_bylevel=None, colsample_bynode=None,\n",
              "              colsample_bytree=None, device=None, early_stopping_rounds=None,\n",
              "              enable_categorical=False, eval_metric=None, feature_types=None,\n",
              "              gamma=None, grow_policy=None, importance_type=None,\n",
              "              interaction_constraints=None, learning_rate=None, max_bin=None,\n",
              "              max_cat_threshold=None, max_cat_to_onehot=None,\n",
              "              max_delta_step=None, max_depth=None, max_leaves=None,\n",
              "              min_child_weight=None, missing=nan, monotone_constraints=None,\n",
              "              multi_strategy=None, n_estimators=None, n_jobs=None,\n",
              "              num_parallel_tree=None, random_state=None, ...)</pre><b>In a Jupyter environment, please rerun this cell to show the HTML representation or trust the notebook. <br />On GitHub, the HTML representation is unable to render, please try loading this page with nbviewer.org.</b></div><div class=\"sk-container\" hidden><div class=\"sk-item\"><div class=\"sk-estimator fitted sk-toggleable\"><input class=\"sk-toggleable__control sk-hidden--visually\" id=\"sk-estimator-id-1\" type=\"checkbox\" checked><label for=\"sk-estimator-id-1\" class=\"sk-toggleable__label fitted sk-toggleable__label-arrow fitted\">&nbsp;XGBClassifier<span class=\"sk-estimator-doc-link fitted\">i<span>Fitted</span></span></label><div class=\"sk-toggleable__content fitted\"><pre>XGBClassifier(base_score=None, booster=None, callbacks=None,\n",
              "              colsample_bylevel=None, colsample_bynode=None,\n",
              "              colsample_bytree=None, device=None, early_stopping_rounds=None,\n",
              "              enable_categorical=False, eval_metric=None, feature_types=None,\n",
              "              gamma=None, grow_policy=None, importance_type=None,\n",
              "              interaction_constraints=None, learning_rate=None, max_bin=None,\n",
              "              max_cat_threshold=None, max_cat_to_onehot=None,\n",
              "              max_delta_step=None, max_depth=None, max_leaves=None,\n",
              "              min_child_weight=None, missing=nan, monotone_constraints=None,\n",
              "              multi_strategy=None, n_estimators=None, n_jobs=None,\n",
              "              num_parallel_tree=None, random_state=None, ...)</pre></div> </div></div></div></div>"
            ]
          },
          "metadata": {},
          "execution_count": 12
        }
      ]
    },
    {
      "cell_type": "markdown",
      "source": [
        "## Regressão Logística"
      ],
      "metadata": {
        "id": "l7gRWFXP09z4"
      }
    },
    {
      "cell_type": "markdown",
      "source": [
        "\n",
        "*   Grupo Privilegiado\n",
        "\n"
      ],
      "metadata": {
        "id": "SleSeAI75Cvp"
      }
    },
    {
      "cell_type": "code",
      "source": [
        "# Fazer previsões usando os dados de teste\n",
        "y_pred_regressao_logistica = regressao_logistica.predict(X_test_priv)\n",
        "\n",
        "# Calcular a acurácia do modelo e imprimir o relatório de classificação\n",
        "acuracia_regressao_logistica = accuracy_score(y_test_priv, y_pred_regressao_logistica)\n",
        "print(f'Acurácia do modelo regressao_logistica: {acuracia_regressao_logistica:.2f}')\n",
        "print(classification_report(y_test_priv, y_pred_regressao_logistica ))\n",
        "\n",
        "# Calcular a matriz de confusão\n",
        "cm = confusion_matrix(y_test_priv, y_pred_regressao_logistica)\n",
        "\n",
        "# Criar a matriz de confusão decorada usando seaborn\n",
        "sns.heatmap(cm, annot=True, fmt='d', cmap='Blues', cbar=False,\n",
        "            xticklabels=['salário<1500', 'salário>1500'],\n",
        "            yticklabels=['salário<1500', 'salário>1500'])\n",
        "plt.xlabel('Rótulos Previstos')\n",
        "plt.ylabel('Rótulos Verdadeiros')\n",
        "plt.title('Matriz de Confusão')\n",
        "plt.show()"
      ],
      "metadata": {
        "colab": {
          "base_uri": "https://localhost:8080/",
          "height": 646
        },
        "id": "SimDI062iDRl",
        "outputId": "a73a78c7-3d5d-4a48-e30c-d78e6d1e2f2f"
      },
      "execution_count": null,
      "outputs": [
        {
          "output_type": "stream",
          "name": "stdout",
          "text": [
            "Acurácia do modelo regressao_logistica: 0.74\n",
            "              precision    recall  f1-score   support\n",
            "\n",
            "         0.0       0.74      0.75      0.74      2533\n",
            "         1.0       0.74      0.73      0.74      2488\n",
            "\n",
            "    accuracy                           0.74      5021\n",
            "   macro avg       0.74      0.74      0.74      5021\n",
            "weighted avg       0.74      0.74      0.74      5021\n",
            "\n"
          ]
        },
        {
          "output_type": "display_data",
          "data": {
            "text/plain": [
              "<Figure size 640x480 with 1 Axes>"
            ],
            "image/png": "[encoded data removed]"
          },
          "metadata": {}
        }
      ]
    },
    {
      "cell_type": "markdown",
      "source": [
        "\n",
        "\n",
        "*   Grupo Desprivilegiado (rótulo = 0)\n",
        "\n"
      ],
      "metadata": {
        "id": "C1xXLHgD7VK9"
      }
    },
    {
      "cell_type": "code",
      "source": [
        "# Fazer previsões usando os dados de teste\n",
        "y_pred_regressao_logistica = regressao_logistica.predict(X_priv_invert)\n",
        "\n",
        "# Calcular a acurácia do modelo e imprimir o relatório de classificação\n",
        "acuracia_regressao_logistica = accuracy_score(y_test_priv, y_pred_regressao_logistica)\n",
        "print(f'Acurácia do modelo regressao_logistica: {acuracia_regressao_logistica:.2f}')\n",
        "print(classification_report(y_test_priv, y_pred_regressao_logistica ))\n",
        "\n",
        "# Calcular a matriz de confusão\n",
        "cm_inv = confusion_matrix(y_test_priv, y_pred_regressao_logistica)\n",
        "\n",
        "# Criar a matriz de confusão decorada usando seaborn\n",
        "sns.heatmap(cm_inv, annot=True, fmt='d', cmap='Blues', cbar=False,\n",
        "            xticklabels=['salário<1500', 'salário>1500'],\n",
        "            yticklabels=['salário<1500', 'salário>1500'])\n",
        "plt.xlabel('Rótulos Previstos')\n",
        "plt.ylabel('Rótulos Verdadeiros')\n",
        "plt.title('Matriz de Confusão')\n",
        "plt.show()"
      ],
      "metadata": {
        "colab": {
          "base_uri": "https://localhost:8080/",
          "height": 646
        },
        "id": "b0a0rk87zWwg",
        "outputId": "250cdefe-27dd-4458-bbbf-e5723e67b31d"
      },
      "execution_count": null,
      "outputs": [
        {
          "output_type": "stream",
          "name": "stdout",
          "text": [
            "Acurácia do modelo regressao_logistica: 0.67\n",
            "              precision    recall  f1-score   support\n",
            "\n",
            "         0.0       0.63      0.86      0.73      2533\n",
            "         1.0       0.78      0.48      0.59      2488\n",
            "\n",
            "    accuracy                           0.67      5021\n",
            "   macro avg       0.70      0.67      0.66      5021\n",
            "weighted avg       0.70      0.67      0.66      5021\n",
            "\n"
          ]
        },
        {
          "output_type": "display_data",
          "data": {
            "text/plain": [
              "<Figure size 640x480 with 1 Axes>"
            ],
            "image/png": "[encoded data removed]"
          },
          "metadata": {}
        }
      ]
    },
    {
      "cell_type": "markdown",
      "source": [
        "\n",
        "\n",
        "\n",
        "\n",
        "*   Métrica de Fairness - Disparate Impact\n",
        "\n"
      ],
      "metadata": {
        "id": "AU4IAHebfOIr"
      }
    },
    {
      "cell_type": "code",
      "source": [
        "# Calcula o disparate impact P_desp/P_priv\n",
        "disparate_impact = (cm_inv[0][1]+cm_inv[1][1]) / (cm[0][1]+cm[1][1])\n",
        "print(\"Disparate Impact:\", disparate_impact)\n",
        "\n",
        "# Interpretação: valores abaixo de 0.8 podem indicar disparidade"
      ],
      "metadata": {
        "colab": {
          "base_uri": "https://localhost:8080/"
        },
        "id": "L2XpObfnXxlQ",
        "outputId": "e5adf0fd-25b0-432c-ad80-c66f3256c066"
      },
      "execution_count": null,
      "outputs": [
        {
          "output_type": "stream",
          "name": "stdout",
          "text": [
            "Disparate Impact: 0.6258613700851237\n"
          ]
        }
      ]
    },
    {
      "cell_type": "markdown",
      "source": [
        "\n",
        "\n",
        "*   Métrica de Fairness - Igualdade de Oportunidade (Equal Opportunity)\n",
        "\n",
        "\n",
        "\n"
      ],
      "metadata": {
        "id": "9Wq5yQcKXtFd"
      }
    },
    {
      "cell_type": "code",
      "source": [
        "import numpy as np\n",
        "\n",
        "# Calculando a taxa de verdadeiros positivos (TPR) para o grupo protegido (a=1)\n",
        "TP_privilegiado = cm[1][1]\n",
        "FN_privilegiado = cm[1][0]\n",
        "TPR_privilegiado = TP_privilegiado / (TP_privilegiado + FN_privilegiado)\n",
        "\n",
        "# Calculando a taxa de verdadeiros positivos (TPR) para o grupo não protegido (a=0)\n",
        "TP_nao_privilegiado = cm_inv[1][1]\n",
        "FN_nao_privilegiado = cm_inv[1][0]\n",
        "TPR_nao_privilegiado = TP_nao_privilegiado / (TP_nao_privilegiado + FN_nao_privilegiado)\n",
        "\n",
        "# Calculando a diferença na TPR entre os grupos\n",
        "equal_opportunity_regressao_logistica = TPR_privilegiado - TPR_nao_privilegiado\n",
        "\n",
        "print(f'Diferença de Equal Opportunity Regressao logistica: {equal_opportunity_regressao_logistica:.4f}')\n"
      ],
      "metadata": {
        "colab": {
          "base_uri": "https://localhost:8080/"
        },
        "id": "QwYF5wpOXtWu",
        "outputId": "dabfc894-156f-4eca-eead-5981428d5ed6"
      },
      "execution_count": null,
      "outputs": [
        {
          "output_type": "stream",
          "name": "stdout",
          "text": [
            "Diferença de Equal Opportunity Regressao logistica: 0.2520\n"
          ]
        }
      ]
    },
    {
      "cell_type": "markdown",
      "source": [
        "## Random Forest\n",
        "\n"
      ],
      "metadata": {
        "id": "oxZZhOOK1FYb"
      }
    },
    {
      "cell_type": "markdown",
      "source": [
        "\n",
        "\n",
        "*   Grupo Privilegiado (rótulo = 1)\n",
        "\n"
      ],
      "metadata": {
        "id": "5pt2bqx75N7i"
      }
    },
    {
      "cell_type": "code",
      "source": [
        "# Fazer previsões usando os dados de teste\n",
        "y_pred_random_forest  = random_forest.predict(X_test_priv)\n",
        "\n",
        "# Calcular a acurácia do modelo e imprimir o relatório de classificação\n",
        "acuracia_random_forest = accuracy_score(y_test_priv, y_pred_random_forest)\n",
        "print(f'Acurácia do modelo: {acuracia_random_forest:.2f}')\n",
        "print(classification_report(y_test_priv, y_pred_random_forest ))\n",
        "\n",
        "# Calcular a matriz de confusão\n",
        "cm = confusion_matrix(y_test_priv, y_pred_random_forest)\n",
        "\n",
        "# Criar a matriz de confusão decorada usando seaborn\n",
        "sns.heatmap(cm, annot=True, fmt='d', cmap='Blues', cbar=False,\n",
        "            xticklabels=['salário<1500', 'salário>1500'],\n",
        "            yticklabels=['salário<1500', 'salário>1500'])\n",
        "plt.xlabel('Rótulos Previstos')\n",
        "plt.ylabel('Rótulos Verdadeiros')\n",
        "plt.title('Matriz de Confusão')\n",
        "plt.show()"
      ],
      "metadata": {
        "colab": {
          "base_uri": "https://localhost:8080/",
          "height": 646
        },
        "id": "iwWpUiOmqr5F",
        "outputId": "0c227d9e-4b6d-4ffe-b3e2-9835308a43d4"
      },
      "execution_count": null,
      "outputs": [
        {
          "output_type": "stream",
          "name": "stdout",
          "text": [
            "Acurácia do modelo: 0.84\n",
            "              precision    recall  f1-score   support\n",
            "\n",
            "         0.0       0.83      0.85      0.84      2533\n",
            "         1.0       0.84      0.82      0.83      2488\n",
            "\n",
            "    accuracy                           0.84      5021\n",
            "   macro avg       0.84      0.84      0.84      5021\n",
            "weighted avg       0.84      0.84      0.84      5021\n",
            "\n"
          ]
        },
        {
          "output_type": "display_data",
          "data": {
            "text/plain": [
              "<Figure size 640x480 with 1 Axes>"
            ],
            "image/png": "[encoded data removed]"
          },
          "metadata": {}
        }
      ]
    },
    {
      "cell_type": "markdown",
      "source": [
        "*   Grupo Desprivilegiado (rótulo = 0)"
      ],
      "metadata": {
        "id": "SH6-i2Lh6D6X"
      }
    },
    {
      "cell_type": "code",
      "source": [
        "# Fazer previsões usando os dados de teste\n",
        "y_pred_random_forest  = random_forest.predict(X_priv_invert)\n",
        "\n",
        "# Calcular a acurácia do modelo e imprimir o relatório de classificação\n",
        "acuracia_random_forest = accuracy_score(y_test_priv, y_pred_random_forest )\n",
        "print(f'Acurácia do modelo: {acuracia_random_forest:.2f}')\n",
        "print(classification_report(y_test_priv, y_pred_random_forest ))\n",
        "\n",
        "# Calcular a matriz de confusão\n",
        "cm_inv = confusion_matrix(y_test_priv, y_pred_random_forest)\n",
        "\n",
        "# Criar a matriz de confusão decorada usando seaborn\n",
        "sns.heatmap(cm_inv, annot=True, fmt='d', cmap='Blues', cbar=False,\n",
        "            xticklabels=['salário<1500', 'salário>1500'],\n",
        "            yticklabels=['salário<1500', 'salário>1500'])\n",
        "plt.xlabel('Rótulos Previstos')\n",
        "plt.ylabel('Rótulos Verdadeiros')\n",
        "plt.title('Matriz de Confusão')\n",
        "plt.show()"
      ],
      "metadata": {
        "colab": {
          "base_uri": "https://localhost:8080/",
          "height": 646
        },
        "outputId": "cd020c8e-d381-4dca-ebfb-78199f22a4d5",
        "id": "rGP7YCTt48ZM"
      },
      "execution_count": null,
      "outputs": [
        {
          "output_type": "stream",
          "name": "stdout",
          "text": [
            "Acurácia do modelo: 0.71\n",
            "              precision    recall  f1-score   support\n",
            "\n",
            "         0.0       0.64      0.96      0.77      2533\n",
            "         1.0       0.92      0.44      0.60      2488\n",
            "\n",
            "    accuracy                           0.71      5021\n",
            "   macro avg       0.78      0.70      0.68      5021\n",
            "weighted avg       0.78      0.71      0.68      5021\n",
            "\n"
          ]
        },
        {
          "output_type": "display_data",
          "data": {
            "text/plain": [
              "<Figure size 640x480 with 1 Axes>"
            ],
            "image/png": "[encoded data removed]"
          },
          "metadata": {}
        }
      ]
    },
    {
      "cell_type": "markdown",
      "source": [
        "\n",
        "\n",
        "\n",
        "\n",
        "*   Métrica de Fairness - Disparate Impact\n",
        "\n"
      ],
      "metadata": {
        "id": "cAMv86X6vx39"
      }
    },
    {
      "cell_type": "code",
      "source": [
        "# Calcula o disparate impact P_desp/P_priv\n",
        "disparate_impact = (cm_inv[0][1]+cm_inv[1][1]) / (cm[0][1]+cm[1][1])\n",
        "print(\"Disparate Impact:\", disparate_impact)\n",
        "\n",
        "# Interpretação: valores abaixo de 0.8 podem indicar disparidade"
      ],
      "metadata": {
        "colab": {
          "base_uri": "https://localhost:8080/"
        },
        "outputId": "3d02fee3-b558-4c1a-fcfc-9016493fec67",
        "id": "FOVxpdfkvx3-"
      },
      "execution_count": null,
      "outputs": [
        {
          "output_type": "stream",
          "name": "stdout",
          "text": [
            "Disparate Impact: 0.49032523672293127\n"
          ]
        }
      ]
    },
    {
      "cell_type": "markdown",
      "source": [
        "\n",
        "\n",
        "*   Métrica de Fairness - Igualdade de Oportunidade (Equal Opportunity)\n",
        "\n",
        "\n",
        "\n"
      ],
      "metadata": {
        "id": "bxszYj4Yvx3_"
      }
    },
    {
      "cell_type": "code",
      "source": [
        "import numpy as np\n",
        "\n",
        "# Calculando a taxa de verdadeiros positivos (TPR) para o grupo protegido (a=1)\n",
        "TP_privilegiado = cm[1][1]\n",
        "FN_privilegiado = cm[1][0]\n",
        "TPR_privilegiado = TP_privilegiado / (TP_privilegiado + FN_privilegiado)\n",
        "\n",
        "# Calculando a taxa de verdadeiros positivos (TPR) para o grupo não protegido (a=0)\n",
        "TP_nao_privilegiado = cm_inv[1][1]\n",
        "FN_nao_privilegiado = cm_inv[1][0]\n",
        "TPR_nao_privilegiado = TP_nao_privilegiado / (TP_nao_privilegiado + FN_nao_privilegiado)\n",
        "\n",
        "# Calculando a diferença na TPR entre os grupos\n",
        "equal_opportunity_regressao_logistica = TPR_privilegiado - TPR_nao_privilegiado\n",
        "\n",
        "print(f'Diferença de Equal Opportunity Regressao logistica: {equal_opportunity_regressao_logistica:.4f}')\n"
      ],
      "metadata": {
        "colab": {
          "base_uri": "https://localhost:8080/"
        },
        "outputId": "b6024524-cd76-4e37-ccf7-9ae6dc73f392",
        "id": "hujoaJyLvx3_"
      },
      "execution_count": null,
      "outputs": [
        {
          "output_type": "stream",
          "name": "stdout",
          "text": [
            "Diferença de Equal Opportunity Regressao logistica: 0.3806\n"
          ]
        }
      ]
    },
    {
      "cell_type": "markdown",
      "source": [
        "## XGB Classifier"
      ],
      "metadata": {
        "id": "Rnro9D5g_WBx"
      }
    },
    {
      "cell_type": "markdown",
      "source": [
        "*   Grupo Privilegiado (rótulo = 1)"
      ],
      "metadata": {
        "id": "W-UCPvXK_jfR"
      }
    },
    {
      "cell_type": "code",
      "source": [
        "# Fazer previsões usando os dados de teste\n",
        "y_pred_xgb_classifier  = xgb_classifier.predict(X_test_priv)\n",
        "\n",
        "# Calcular a acurácia do modelo e imprimir o relatório de classificação\n",
        "acuracia_xgb_classifier = accuracy_score(y_test_priv, y_pred_xgb_classifier)\n",
        "print(f'Acurácia do modelo: {acuracia_xgb_classifier:.2f}')\n",
        "print(classification_report(y_test_priv, y_pred_xgb_classifier ))\n",
        "\n",
        "# Calcular a matriz de confusão\n",
        "cm = confusion_matrix(y_test_priv, y_pred_xgb_classifier)\n",
        "\n",
        "# Criar a matriz de confusão decorada usando seaborn\n",
        "sns.heatmap(cm, annot=True, fmt='d', cmap='Blues', cbar=False,\n",
        "            xticklabels=['salário<1500', 'salário>1500'],\n",
        "            yticklabels=['salário<1500', 'salário>1500'])\n",
        "plt.xlabel('Rótulos Previstos')\n",
        "plt.ylabel('Rótulos Verdadeiros')\n",
        "plt.title('Matriz de Confusão')\n",
        "plt.show()"
      ],
      "metadata": {
        "colab": {
          "base_uri": "https://localhost:8080/",
          "height": 646
        },
        "id": "y8TXZzCdAqnr",
        "outputId": "1bd2a43b-04c3-4d43-e511-a4d23db79659"
      },
      "execution_count": null,
      "outputs": [
        {
          "output_type": "stream",
          "name": "stdout",
          "text": [
            "Acurácia do modelo: 0.85\n",
            "              precision    recall  f1-score   support\n",
            "\n",
            "         0.0       0.83      0.87      0.85      2533\n",
            "         1.0       0.86      0.82      0.84      2488\n",
            "\n",
            "    accuracy                           0.85      5021\n",
            "   macro avg       0.85      0.85      0.85      5021\n",
            "weighted avg       0.85      0.85      0.85      5021\n",
            "\n"
          ]
        },
        {
          "output_type": "display_data",
          "data": {
            "text/plain": [
              "<Figure size 640x480 with 1 Axes>"
            ],
            "image/png": "[encoded data removed]"
          },
          "metadata": {}
        }
      ]
    },
    {
      "cell_type": "markdown",
      "source": [
        "*   Grupo Desprivilegiado (rótulo = 0)"
      ],
      "metadata": {
        "id": "9OuWruDT_jMT"
      }
    },
    {
      "cell_type": "code",
      "source": [
        "# Fazer previsões usando os dados de teste\n",
        "y_pred_xgb_classifier  = xgb_classifier.predict(X_priv_invert)\n",
        "\n",
        "# Calcular a acurácia do modelo e imprimir o relatório de classificação\n",
        "acuracia_xgb_classifier = accuracy_score(y_test_priv, y_pred_xgb_classifier )\n",
        "print(f'Acurácia do modelo: {acuracia_xgb_classifier:.2f}')\n",
        "print(classification_report(y_test_priv, y_pred_xgb_classifier ))\n",
        "\n",
        "# Calcular a matriz de confusão\n",
        "cm_inv = confusion_matrix(y_test_priv, y_pred_xgb_classifier)\n",
        "\n",
        "# Criar a matriz de confusão decorada usando seaborn\n",
        "sns.heatmap(cm_inv, annot=True, fmt='d', cmap='Blues', cbar=False,\n",
        "            xticklabels=['salário<1500', 'salário>1500'],\n",
        "            yticklabels=['salário<1500', 'salário>1500'])\n",
        "plt.xlabel('Rótulos Previstos')\n",
        "plt.ylabel('Rótulos Verdadeiros')\n",
        "plt.title('Matriz de Confusão')\n",
        "plt.show()"
      ],
      "metadata": {
        "colab": {
          "base_uri": "https://localhost:8080/",
          "height": 646
        },
        "id": "w6NTkYX2ApYB",
        "outputId": "1845be3f-c4b2-4abe-ffb9-81f531fe2623"
      },
      "execution_count": null,
      "outputs": [
        {
          "output_type": "stream",
          "name": "stdout",
          "text": [
            "Acurácia do modelo: 0.82\n",
            "              precision    recall  f1-score   support\n",
            "\n",
            "         0.0       0.78      0.90      0.83      2533\n",
            "         1.0       0.88      0.74      0.80      2488\n",
            "\n",
            "    accuracy                           0.82      5021\n",
            "   macro avg       0.83      0.82      0.82      5021\n",
            "weighted avg       0.83      0.82      0.82      5021\n",
            "\n"
          ]
        },
        {
          "output_type": "display_data",
          "data": {
            "text/plain": [
              "<Figure size 640x480 with 1 Axes>"
            ],
            "image/png": "[encoded data removed]"
          },
          "metadata": {}
        }
      ]
    },
    {
      "cell_type": "markdown",
      "source": [
        "\n",
        "\n",
        "\n",
        "\n",
        "*   Métrica de Fairness - Disparate Impact\n",
        "\n"
      ],
      "metadata": {
        "id": "8GxqriDNwJOI"
      }
    },
    {
      "cell_type": "code",
      "source": [
        "# Calcula o disparate impact P_desp/P_priv\n",
        "disparate_impact = (cm_inv[0][1]+cm_inv[1][1]) / (cm[0][1]+cm[1][1])\n",
        "print(\"Disparate Impact:\", disparate_impact)\n",
        "\n",
        "# Interpretação: valores abaixo de 0.8 podem indicar disparidade"
      ],
      "metadata": {
        "colab": {
          "base_uri": "https://localhost:8080/"
        },
        "outputId": "074e0400-57f3-4446-d3d5-ecdde7d8b209",
        "id": "xKHAdPsawJOJ"
      },
      "execution_count": null,
      "outputs": [
        {
          "output_type": "stream",
          "name": "stdout",
          "text": [
            "Disparate Impact: 0.8850526315789473\n"
          ]
        }
      ]
    },
    {
      "cell_type": "markdown",
      "source": [
        "\n",
        "\n",
        "*   Métrica de Fairness - Igualdade de Oportunidade (Equal Opportunity)\n",
        "\n",
        "\n",
        "\n"
      ],
      "metadata": {
        "id": "co9n_PTAwJOJ"
      }
    },
    {
      "cell_type": "code",
      "source": [
        "import numpy as np\n",
        "\n",
        "# Calculando a taxa de verdadeiros positivos (TPR) para o grupo protegido (a=1)\n",
        "TP_privilegiado = cm[1][1]\n",
        "FN_privilegiado = cm[1][0]\n",
        "TPR_privilegiado = TP_privilegiado / (TP_privilegiado + FN_privilegiado)\n",
        "\n",
        "# Calculando a taxa de verdadeiros positivos (TPR) para o grupo não protegido (a=0)\n",
        "TP_nao_privilegiado = cm_inv[1][1]\n",
        "FN_nao_privilegiado = cm_inv[1][0]\n",
        "TPR_nao_privilegiado = TP_nao_privilegiado / (TP_nao_privilegiado + FN_nao_privilegiado)\n",
        "\n",
        "# Calculando a diferença na TPR entre os grupos\n",
        "equal_opportunity_regressao_logistica = TPR_privilegiado - TPR_nao_privilegiado\n",
        "\n",
        "print(f'Diferença de Equal Opportunity Regressao logistica: {equal_opportunity_regressao_logistica:.4f}')\n"
      ],
      "metadata": {
        "colab": {
          "base_uri": "https://localhost:8080/"
        },
        "outputId": "f0ed03c5-93b3-48b8-b188-6526e39cc969",
        "id": "Anzh46gAwJOJ"
      },
      "execution_count": null,
      "outputs": [
        {
          "output_type": "stream",
          "name": "stdout",
          "text": [
            "Diferença de Equal Opportunity Regressao logistica: 0.0844\n"
          ]
        }
      ]
    }
  ]
}